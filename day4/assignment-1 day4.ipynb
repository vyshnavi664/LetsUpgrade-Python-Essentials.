{
 "cells": [
  {
   "cell_type": "code",
   "execution_count": 1,
   "metadata": {},
   "outputs": [
    {
     "name": "stdout",
     "output_type": "stream",
     "text": [
      "enter any number :1042000\n",
      "enter any number: 702648265\n",
      "the first armstrong number is :  1741725\n"
     ]
    }
   ],
   "source": [
    "lower=int(input(\"enter any number :\"))\n",
    "\n",
    "upper=int(input(\"enter any number: \"))\n",
    "\n",
    "for i in range(lower,upper):\n",
    "    num=i\n",
    "    result=0\n",
    "    n=len(str(i))\n",
    "    while(i!=0):\n",
    "        digit=i%10\n",
    "        result=result+digit**n\n",
    "        i=i//10\n",
    "    if num==result:\n",
    "        print(\"the first armstrong number is : \",num)\n",
    "        break"
   ]
  },
  {
   "cell_type": "code",
   "execution_count": null,
   "metadata": {},
   "outputs": [],
   "source": []
  }
 ],
 "metadata": {
  "kernelspec": {
   "display_name": "Python 3",
   "language": "python",
   "name": "python3"
  },
  "language_info": {
   "codemirror_mode": {
    "name": "ipython",
    "version": 3
   },
   "file_extension": ".py",
   "mimetype": "text/x-python",
   "name": "python",
   "nbconvert_exporter": "python",
   "pygments_lexer": "ipython3",
   "version": "3.8.3"
  }
 },
 "nbformat": 4,
 "nbformat_minor": 4
}
